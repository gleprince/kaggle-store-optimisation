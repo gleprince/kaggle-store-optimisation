{
 "cells": [
  {
   "cell_type": "code",
   "execution_count": 1,
   "metadata": {},
   "outputs": [],
   "source": [
    "# Librairies\n",
    "import numpy as np\n",
    "from scipy import sparse\n",
    "import pandas as pd\n",
    "import matplotlib.pyplot as plt\n",
    "\n",
    "path =\"/home/gleprince/Documents/Certificat/Projet_2/starting_kit/sample_data\"\n",
    "data = pd.read_csv(path+\"/store_train.data\",sep=\" \",names = ['ID', 'day', 'date', 'nb_customer','open','promo','state','school'])"
   ]
  },
  {
   "cell_type": "code",
   "execution_count": 2,
   "metadata": {},
   "outputs": [
    {
     "data": {
      "text/html": [
       "<div>\n",
       "<style scoped>\n",
       "    .dataframe tbody tr th:only-of-type {\n",
       "        vertical-align: middle;\n",
       "    }\n",
       "\n",
       "    .dataframe tbody tr th {\n",
       "        vertical-align: top;\n",
       "    }\n",
       "\n",
       "    .dataframe thead th {\n",
       "        text-align: right;\n",
       "    }\n",
       "</style>\n",
       "<table border=\"1\" class=\"dataframe\">\n",
       "  <thead>\n",
       "    <tr style=\"text-align: right;\">\n",
       "      <th></th>\n",
       "      <th>ID</th>\n",
       "      <th>day</th>\n",
       "      <th>date</th>\n",
       "      <th>nb_customer</th>\n",
       "      <th>open</th>\n",
       "      <th>promo</th>\n",
       "      <th>state</th>\n",
       "      <th>school</th>\n",
       "    </tr>\n",
       "  </thead>\n",
       "  <tbody>\n",
       "    <tr>\n",
       "      <td>0</td>\n",
       "      <td>874</td>\n",
       "      <td>4</td>\n",
       "      <td>2014-12-18</td>\n",
       "      <td>653</td>\n",
       "      <td>1</td>\n",
       "      <td>1</td>\n",
       "      <td>0</td>\n",
       "      <td>0</td>\n",
       "    </tr>\n",
       "    <tr>\n",
       "      <td>1</td>\n",
       "      <td>244</td>\n",
       "      <td>1</td>\n",
       "      <td>2013-08-19</td>\n",
       "      <td>448</td>\n",
       "      <td>1</td>\n",
       "      <td>0</td>\n",
       "      <td>0</td>\n",
       "      <td>1</td>\n",
       "    </tr>\n",
       "    <tr>\n",
       "      <td>2</td>\n",
       "      <td>222</td>\n",
       "      <td>2</td>\n",
       "      <td>2014-06-10</td>\n",
       "      <td>627</td>\n",
       "      <td>1</td>\n",
       "      <td>0</td>\n",
       "      <td>0</td>\n",
       "      <td>0</td>\n",
       "    </tr>\n",
       "    <tr>\n",
       "      <td>3</td>\n",
       "      <td>655</td>\n",
       "      <td>5</td>\n",
       "      <td>2013-04-05</td>\n",
       "      <td>545</td>\n",
       "      <td>1</td>\n",
       "      <td>0</td>\n",
       "      <td>0</td>\n",
       "      <td>1</td>\n",
       "    </tr>\n",
       "    <tr>\n",
       "      <td>4</td>\n",
       "      <td>806</td>\n",
       "      <td>4</td>\n",
       "      <td>2013-12-19</td>\n",
       "      <td>729</td>\n",
       "      <td>1</td>\n",
       "      <td>1</td>\n",
       "      <td>0</td>\n",
       "      <td>0</td>\n",
       "    </tr>\n",
       "  </tbody>\n",
       "</table>\n",
       "</div>"
      ],
      "text/plain": [
       "    ID  day        date  nb_customer  open  promo state  school\n",
       "0  874    4  2014-12-18          653     1      1     0       0\n",
       "1  244    1  2013-08-19          448     1      0     0       1\n",
       "2  222    2  2014-06-10          627     1      0     0       0\n",
       "3  655    5  2013-04-05          545     1      0     0       1\n",
       "4  806    4  2013-12-19          729     1      1     0       0"
      ]
     },
     "execution_count": 2,
     "metadata": {},
     "output_type": "execute_result"
    }
   ],
   "source": [
    "data.head()"
   ]
  },
  {
   "cell_type": "code",
   "execution_count": 3,
   "metadata": {},
   "outputs": [
    {
     "data": {
      "text/plain": [
       "ID              int64\n",
       "day             int64\n",
       "date           object\n",
       "nb_customer     int64\n",
       "open            int64\n",
       "promo           int64\n",
       "state          object\n",
       "school          int64\n",
       "dtype: object"
      ]
     },
     "execution_count": 3,
     "metadata": {},
     "output_type": "execute_result"
    }
   ],
   "source": [
    "data.dtypes"
   ]
  },
  {
   "cell_type": "code",
   "execution_count": 30,
   "metadata": {},
   "outputs": [],
   "source": [
    "data[\"date\"]=pd.Categorical(data[\"date\"],ordered=False)\n",
    "data[\"state\"]=pd.Categorical(data[\"state\"],ordered=False)"
   ]
  },
  {
   "cell_type": "code",
   "execution_count": 54,
   "metadata": {},
   "outputs": [
    {
     "data": {
      "text/html": [
       "<div>\n",
       "<style scoped>\n",
       "    .dataframe tbody tr th:only-of-type {\n",
       "        vertical-align: middle;\n",
       "    }\n",
       "\n",
       "    .dataframe tbody tr th {\n",
       "        vertical-align: top;\n",
       "    }\n",
       "\n",
       "    .dataframe thead th {\n",
       "        text-align: right;\n",
       "    }\n",
       "</style>\n",
       "<table border=\"1\" class=\"dataframe\">\n",
       "  <thead>\n",
       "    <tr style=\"text-align: right;\">\n",
       "      <th></th>\n",
       "      <th>state_0</th>\n",
       "      <th>state_a</th>\n",
       "      <th>state_b</th>\n",
       "      <th>state_c</th>\n",
       "      <th>ID</th>\n",
       "      <th>day</th>\n",
       "      <th>date</th>\n",
       "      <th>nb_customer</th>\n",
       "      <th>open</th>\n",
       "      <th>promo</th>\n",
       "      <th>school</th>\n",
       "    </tr>\n",
       "  </thead>\n",
       "  <tbody>\n",
       "    <tr>\n",
       "      <td>0</td>\n",
       "      <td>1</td>\n",
       "      <td>0</td>\n",
       "      <td>0</td>\n",
       "      <td>0</td>\n",
       "      <td>874</td>\n",
       "      <td>4</td>\n",
       "      <td>2014-12-18</td>\n",
       "      <td>653</td>\n",
       "      <td>1</td>\n",
       "      <td>1</td>\n",
       "      <td>0</td>\n",
       "    </tr>\n",
       "    <tr>\n",
       "      <td>1</td>\n",
       "      <td>1</td>\n",
       "      <td>0</td>\n",
       "      <td>0</td>\n",
       "      <td>0</td>\n",
       "      <td>244</td>\n",
       "      <td>1</td>\n",
       "      <td>2013-08-19</td>\n",
       "      <td>448</td>\n",
       "      <td>1</td>\n",
       "      <td>0</td>\n",
       "      <td>1</td>\n",
       "    </tr>\n",
       "    <tr>\n",
       "      <td>2</td>\n",
       "      <td>1</td>\n",
       "      <td>0</td>\n",
       "      <td>0</td>\n",
       "      <td>0</td>\n",
       "      <td>222</td>\n",
       "      <td>2</td>\n",
       "      <td>2014-06-10</td>\n",
       "      <td>627</td>\n",
       "      <td>1</td>\n",
       "      <td>0</td>\n",
       "      <td>0</td>\n",
       "    </tr>\n",
       "    <tr>\n",
       "      <td>3</td>\n",
       "      <td>1</td>\n",
       "      <td>0</td>\n",
       "      <td>0</td>\n",
       "      <td>0</td>\n",
       "      <td>655</td>\n",
       "      <td>5</td>\n",
       "      <td>2013-04-05</td>\n",
       "      <td>545</td>\n",
       "      <td>1</td>\n",
       "      <td>0</td>\n",
       "      <td>1</td>\n",
       "    </tr>\n",
       "    <tr>\n",
       "      <td>4</td>\n",
       "      <td>1</td>\n",
       "      <td>0</td>\n",
       "      <td>0</td>\n",
       "      <td>0</td>\n",
       "      <td>806</td>\n",
       "      <td>4</td>\n",
       "      <td>2013-12-19</td>\n",
       "      <td>729</td>\n",
       "      <td>1</td>\n",
       "      <td>1</td>\n",
       "      <td>0</td>\n",
       "    </tr>\n",
       "  </tbody>\n",
       "</table>\n",
       "</div>"
      ],
      "text/plain": [
       "   state_0  state_a  state_b  state_c   ID  day        date  nb_customer  \\\n",
       "0        1        0        0        0  874    4  2014-12-18          653   \n",
       "1        1        0        0        0  244    1  2013-08-19          448   \n",
       "2        1        0        0        0  222    2  2014-06-10          627   \n",
       "3        1        0        0        0  655    5  2013-04-05          545   \n",
       "4        1        0        0        0  806    4  2013-12-19          729   \n",
       "\n",
       "   open  promo  school  \n",
       "0     1      1       0  \n",
       "1     1      0       1  \n",
       "2     1      0       0  \n",
       "3     1      0       1  \n",
       "4     1      1       0  "
      ]
     },
     "execution_count": 54,
     "metadata": {},
     "output_type": "execute_result"
    }
   ],
   "source": [
    "data_extract=pd.get_dummies(data[[\"state\"]])\n",
    "rest=data[[\"ID\",\"day\",\"date\",\"nb_customer\",\"open\",\"promo\",\"school\"]]\n",
    "ddata=pd.concat([data_extract,rest],axis=1)\n",
    "ddata.head()"
   ]
  },
  {
   "cell_type": "code",
   "execution_count": 55,
   "metadata": {},
   "outputs": [
    {
     "data": {
      "text/plain": [
       "state_0         int64\n",
       "state_a         int64\n",
       "state_b         int64\n",
       "state_c         int64\n",
       "ID              int64\n",
       "day             int64\n",
       "date           object\n",
       "nb_customer     int64\n",
       "open            int64\n",
       "promo           int64\n",
       "school          int64\n",
       "dtype: object"
      ]
     },
     "execution_count": 55,
     "metadata": {},
     "output_type": "execute_result"
    }
   ],
   "source": [
    "ddata[\"state_0\"]=pd.DataFrame(ddata[\"state_0\"], dtype=int)\n",
    "ddata[\"state_a\"]=pd.DataFrame(ddata[\"state_a\"], dtype=int)\n",
    "ddata[\"state_b\"]=pd.DataFrame(ddata[\"state_b\"], dtype=int)\n",
    "ddata[\"state_c\"]=pd.DataFrame(ddata[\"state_c\"], dtype=int)\n",
    "ddata.dtypes\n",
    "        "
   ]
  },
  {
   "cell_type": "code",
   "execution_count": 64,
   "metadata": {},
   "outputs": [
    {
     "data": {
      "image/png": "[encoded data removed]",
      "text/plain": [
       "<Figure size 432x288 with 1 Axes>"
      ]
     },
     "metadata": {
      "needs_background": "light"
     },
     "output_type": "display_data"
    }
   ],
   "source": [
    "plt.scatter(data[\"day\"],data[\"nb_customer\"])\n",
    "plt.show()"
   ]
  },
  {
   "cell_type": "markdown",
   "metadata": {},
   "source": [
    "# ACP"
   ]
  },
  {
   "cell_type": "code",
   "execution_count": 65,
   "metadata": {},
   "outputs": [],
   "source": [
    "# ACP\n",
    "from sklearn.decomposition import PCA\n",
    "from sklearn.preprocessing import scale\n",
    "# réduction des variables\n",
    "X=scale(ddata[[\"nb_customer\",\"day\",\"open\",\"state_0\",\"state_a\",\"state_b\",\"state_c\",\"school\",\"promo\"]])"
   ]
  },
  {
   "cell_type": "code",
   "execution_count": 78,
   "metadata": {},
   "outputs": [
    {
     "data": {
      "image/png": "[encoded data removed]",
      "text/plain": [
       "<Figure size 432x288 with 1 Axes>"
      ]
     },
     "metadata": {
      "needs_background": "light"
     },
     "output_type": "display_data"
    }
   ],
   "source": [
    "pca = PCA()\n",
    "## Estimation, calcul des composantes principales\n",
    "C = pca.fit(X).transform(X)\n",
    "## Décroissance de la variance expliquée\n",
    "plt.plot(pca.explained_variance_ratio_)\n",
    "plt.show()"
   ]
  },
  {
   "cell_type": "code",
   "execution_count": 79,
   "metadata": {},
   "outputs": [
    {
     "name": "stdout",
     "output_type": "stream",
     "text": [
      "[2.91851830e-01 2.11476376e-01 1.23972456e-01 1.12168200e-01\n",
      " 9.02125196e-02 7.71901284e-02 6.06005508e-02 3.25279391e-02\n",
      " 1.06889385e-29]\n"
     ]
    }
   ],
   "source": [
    "print(pca.explained_variance_ratio_)"
   ]
  },
  {
   "cell_type": "code",
   "execution_count": 80,
   "metadata": {},
   "outputs": [
    {
     "data": {
      "image/png": "[encoded data removed]",
      "text/plain": [
       "<Figure size 432x288 with 1 Axes>"
      ]
     },
     "metadata": {
      "needs_background": "light"
     },
     "output_type": "display_data"
    }
   ],
   "source": [
    "## distribution des composantes principales\n",
    "plt.boxplot(C[:,0:20])\n",
    "plt.show()"
   ]
  },
  {
   "cell_type": "code",
   "execution_count": 81,
   "metadata": {},
   "outputs": [
    {
     "name": "stdout",
     "output_type": "stream",
     "text": [
      "[2.91851830e-01 2.11476376e-01 1.23972456e-01 1.12168200e-01\n",
      " 9.02125196e-02 7.71901284e-02 6.06005508e-02 3.25279391e-02\n",
      " 1.11115165e-29]\n"
     ]
    }
   ],
   "source": [
    "ex_variance=np.var(C,axis=0)\n",
    "ex_variance_ratio = ex_variance/np.sum(ex_variance)\n",
    "print (ex_variance_ratio) \n"
   ]
  },
  {
   "cell_type": "code",
   "execution_count": 77,
   "metadata": {},
   "outputs": [
    {
     "data": {
      "image/png": "[encoded data removed]",
      "text/plain": [
       "<Figure size 360x360 with 1 Axes>"
      ]
     },
     "metadata": {
      "needs_background": "light"
     },
     "output_type": "display_data"
    }
   ],
   "source": [
    "## coordonnées et représentation des variables\n",
    "coord1=pca.components_[0]*np.sqrt(pca.explained_variance_[0])\n",
    "coord2=pca.components_[1]*np.sqrt(pca.explained_variance_[1])\n",
    "fig = plt.figure(figsize=(5,5))\n",
    "ax = fig.add_subplot(1, 1, 1)\n",
    "for i, j, nom in zip(coord1,coord2, ddata[[\"nb_customer\",\"day\",\"open\",\"promo\",\"state_0\",\"state_a\",\"state_b\",\"state_c\",\"school\"]].columns):\n",
    "    plt.text(i, j, nom)\n",
    "    plt.arrow(0,0,i,j,color='black')\n",
    "plt.axis((-1.2,1.2,-1.2,1.2))\n",
    "# cercle\n",
    "c=plt.Circle((0,0), radius=1, color='gray', fill=False)\n",
    "ax.add_patch(c)\n",
    "plt.show()"
   ]
  },
  {
   "cell_type": "markdown",
   "metadata": {},
   "source": [
    "# APPRENTISSAGE\n"
   ]
  },
  {
   "cell_type": "code",
   "execution_count": 83,
   "metadata": {},
   "outputs": [
    {
     "data": {
      "text/html": [
       "<div>\n",
       "<style scoped>\n",
       "    .dataframe tbody tr th:only-of-type {\n",
       "        vertical-align: middle;\n",
       "    }\n",
       "\n",
       "    .dataframe tbody tr th {\n",
       "        vertical-align: top;\n",
       "    }\n",
       "\n",
       "    .dataframe thead th {\n",
       "        text-align: right;\n",
       "    }\n",
       "</style>\n",
       "<table border=\"1\" class=\"dataframe\">\n",
       "  <thead>\n",
       "    <tr style=\"text-align: right;\">\n",
       "      <th></th>\n",
       "      <th>state_0</th>\n",
       "      <th>state_a</th>\n",
       "      <th>state_b</th>\n",
       "      <th>state_c</th>\n",
       "      <th>ID</th>\n",
       "      <th>day</th>\n",
       "      <th>date</th>\n",
       "      <th>open</th>\n",
       "      <th>promo</th>\n",
       "      <th>school</th>\n",
       "    </tr>\n",
       "  </thead>\n",
       "  <tbody>\n",
       "    <tr>\n",
       "      <td>0</td>\n",
       "      <td>1</td>\n",
       "      <td>0</td>\n",
       "      <td>0</td>\n",
       "      <td>0</td>\n",
       "      <td>874</td>\n",
       "      <td>4</td>\n",
       "      <td>2014-12-18</td>\n",
       "      <td>1</td>\n",
       "      <td>1</td>\n",
       "      <td>0</td>\n",
       "    </tr>\n",
       "    <tr>\n",
       "      <td>1</td>\n",
       "      <td>1</td>\n",
       "      <td>0</td>\n",
       "      <td>0</td>\n",
       "      <td>0</td>\n",
       "      <td>244</td>\n",
       "      <td>1</td>\n",
       "      <td>2013-08-19</td>\n",
       "      <td>1</td>\n",
       "      <td>0</td>\n",
       "      <td>1</td>\n",
       "    </tr>\n",
       "    <tr>\n",
       "      <td>2</td>\n",
       "      <td>1</td>\n",
       "      <td>0</td>\n",
       "      <td>0</td>\n",
       "      <td>0</td>\n",
       "      <td>222</td>\n",
       "      <td>2</td>\n",
       "      <td>2014-06-10</td>\n",
       "      <td>1</td>\n",
       "      <td>0</td>\n",
       "      <td>0</td>\n",
       "    </tr>\n",
       "    <tr>\n",
       "      <td>3</td>\n",
       "      <td>1</td>\n",
       "      <td>0</td>\n",
       "      <td>0</td>\n",
       "      <td>0</td>\n",
       "      <td>655</td>\n",
       "      <td>5</td>\n",
       "      <td>2013-04-05</td>\n",
       "      <td>1</td>\n",
       "      <td>0</td>\n",
       "      <td>1</td>\n",
       "    </tr>\n",
       "    <tr>\n",
       "      <td>4</td>\n",
       "      <td>1</td>\n",
       "      <td>0</td>\n",
       "      <td>0</td>\n",
       "      <td>0</td>\n",
       "      <td>806</td>\n",
       "      <td>4</td>\n",
       "      <td>2013-12-19</td>\n",
       "      <td>1</td>\n",
       "      <td>1</td>\n",
       "      <td>0</td>\n",
       "    </tr>\n",
       "  </tbody>\n",
       "</table>\n",
       "</div>"
      ],
      "text/plain": [
       "   state_0  state_a  state_b  state_c   ID  day        date  open  promo  \\\n",
       "0        1        0        0        0  874    4  2014-12-18     1      1   \n",
       "1        1        0        0        0  244    1  2013-08-19     1      0   \n",
       "2        1        0        0        0  222    2  2014-06-10     1      0   \n",
       "3        1        0        0        0  655    5  2013-04-05     1      0   \n",
       "4        1        0        0        0  806    4  2013-12-19     1      1   \n",
       "\n",
       "   school  \n",
       "0       0  \n",
       "1       1  \n",
       "2       0  \n",
       "3       1  \n",
       "4       0  "
      ]
     },
     "execution_count": 83,
     "metadata": {},
     "output_type": "execute_result"
    }
   ],
   "source": [
    "# Variables explicatives\n",
    "data_extract=pd.get_dummies(data[[\"state\"]])\n",
    "rest=data[[\"ID\",\"day\",\"date\",\"open\",\"promo\",\"school\"]]\n",
    "data_test=pd.concat([data_extract,rest],axis=1)\n",
    "data_test.head()"
   ]
  },
  {
   "cell_type": "code",
   "execution_count": 85,
   "metadata": {},
   "outputs": [],
   "source": [
    "# variable à expliquer réelle\n",
    "Yr=data[\"nb_customer\"]"
   ]
  },
  {
   "cell_type": "code",
   "execution_count": 86,
   "metadata": {},
   "outputs": [
    {
     "data": {
      "image/png": "[encoded data removed]",
      "text/plain": [
       "<Figure size 432x288 with 1 Axes>"
      ]
     },
     "metadata": {
      "needs_background": "light"
     },
     "output_type": "display_data"
    }
   ],
   "source": [
    "Yr.hist()\n",
    "plt.show()"
   ]
  },
  {
   "cell_type": "code",
   "execution_count": null,
   "metadata": {},
   "outputs": [],
   "source": []
  }
 ],
 "metadata": {
  "kernelspec": {
   "display_name": "Python 3",
   "language": "python",
   "name": "python3"
  },
  "language_info": {
   "codemirror_mode": {
    "name": "ipython",
    "version": 3
   },
   "file_extension": ".py",
   "mimetype": "text/x-python",
   "name": "python",
   "nbconvert_exporter": "python",
   "pygments_lexer": "ipython3",
   "version": "3.7.4"
  }
 },
 "nbformat": 4,
 "nbformat_minor": 2
}
