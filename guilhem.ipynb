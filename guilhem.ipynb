{
 "cells": [
  {
   "cell_type": "code",
   "execution_count": 1,
   "metadata": {},
   "outputs": [],
   "source": [
    "# Librairies\n",
    "import numpy as np\n",
    "from scipy import sparse\n",
    "import pandas as pd\n",
    "import matplotlib.pyplot as plt\n",
    "\n",
    "path =\"/home/gleprince/Documents/Certificat/Projet_2/starting_kit/sample_data\"\n",
    "data = pd.read_csv(path+\"/store_train.data\",sep=\" \",names = ['ID', 'day', 'date', 'nb_customer','open','promo','state','school'])"
   ]
  },
  {
   "cell_type": "code",
   "execution_count": 2,
   "metadata": {},
   "outputs": [
    {
     "data": {
      "text/html": [
       "<div>\n",
       "<style scoped>\n",
       "    .dataframe tbody tr th:only-of-type {\n",
       "        vertical-align: middle;\n",
       "    }\n",
       "\n",
       "    .dataframe tbody tr th {\n",
       "        vertical-align: top;\n",
       "    }\n",
       "\n",
       "    .dataframe thead th {\n",
       "        text-align: right;\n",
       "    }\n",
       "</style>\n",
       "<table border=\"1\" class=\"dataframe\">\n",
       "  <thead>\n",
       "    <tr style=\"text-align: right;\">\n",
       "      <th></th>\n",
       "      <th>ID</th>\n",
       "      <th>day</th>\n",
       "      <th>date</th>\n",
       "      <th>nb_customer</th>\n",
       "      <th>open</th>\n",
       "      <th>promo</th>\n",
       "      <th>state</th>\n",
       "      <th>school</th>\n",
       "    </tr>\n",
       "  </thead>\n",
       "  <tbody>\n",
       "    <tr>\n",
       "      <td>0</td>\n",
       "      <td>874</td>\n",
       "      <td>4</td>\n",
       "      <td>2014-12-18</td>\n",
       "      <td>653</td>\n",
       "      <td>1</td>\n",
       "      <td>1</td>\n",
       "      <td>0</td>\n",
       "      <td>0</td>\n",
       "    </tr>\n",
       "    <tr>\n",
       "      <td>1</td>\n",
       "      <td>244</td>\n",
       "      <td>1</td>\n",
       "      <td>2013-08-19</td>\n",
       "      <td>448</td>\n",
       "      <td>1</td>\n",
       "      <td>0</td>\n",
       "      <td>0</td>\n",
       "      <td>1</td>\n",
       "    </tr>\n",
       "    <tr>\n",
       "      <td>2</td>\n",
       "      <td>222</td>\n",
       "      <td>2</td>\n",
       "      <td>2014-06-10</td>\n",
       "      <td>627</td>\n",
       "      <td>1</td>\n",
       "      <td>0</td>\n",
       "      <td>0</td>\n",
       "      <td>0</td>\n",
       "    </tr>\n",
       "    <tr>\n",
       "      <td>3</td>\n",
       "      <td>655</td>\n",
       "      <td>5</td>\n",
       "      <td>2013-04-05</td>\n",
       "      <td>545</td>\n",
       "      <td>1</td>\n",
       "      <td>0</td>\n",
       "      <td>0</td>\n",
       "      <td>1</td>\n",
       "    </tr>\n",
       "    <tr>\n",
       "      <td>4</td>\n",
       "      <td>806</td>\n",
       "      <td>4</td>\n",
       "      <td>2013-12-19</td>\n",
       "      <td>729</td>\n",
       "      <td>1</td>\n",
       "      <td>1</td>\n",
       "      <td>0</td>\n",
       "      <td>0</td>\n",
       "    </tr>\n",
       "  </tbody>\n",
       "</table>\n",
       "</div>"
      ],
      "text/plain": [
       "    ID  day        date  nb_customer  open  promo state  school\n",
       "0  874    4  2014-12-18          653     1      1     0       0\n",
       "1  244    1  2013-08-19          448     1      0     0       1\n",
       "2  222    2  2014-06-10          627     1      0     0       0\n",
       "3  655    5  2013-04-05          545     1      0     0       1\n",
       "4  806    4  2013-12-19          729     1      1     0       0"
      ]
     },
     "execution_count": 2,
     "metadata": {},
     "output_type": "execute_result"
    }
   ],
   "source": [
    "data.head()"
   ]
  },
  {
   "cell_type": "code",
   "execution_count": 3,
   "metadata": {},
   "outputs": [
    {
     "data": {
      "text/plain": [
       "ID              int64\n",
       "day             int64\n",
       "date           object\n",
       "nb_customer     int64\n",
       "open            int64\n",
       "promo           int64\n",
       "state          object\n",
       "school          int64\n",
       "dtype: object"
      ]
     },
     "execution_count": 3,
     "metadata": {},
     "output_type": "execute_result"
    }
   ],
   "source": [
    "data.dtypes"
   ]
  },
  {
   "cell_type": "code",
   "execution_count": 4,
   "metadata": {},
   "outputs": [],
   "source": [
    "data[\"date\"]=pd.to_datetime(data[\"date\"])\n",
    "data[\"state\"]=pd.Categorical(data[\"state\"],ordered=False)"
   ]
  },
  {
   "cell_type": "code",
   "execution_count": 5,
   "metadata": {},
   "outputs": [
    {
     "data": {
      "text/plain": [
       "ID                      int64\n",
       "day                     int64\n",
       "date           datetime64[ns]\n",
       "nb_customer             int64\n",
       "open                    int64\n",
       "promo                   int64\n",
       "state                category\n",
       "school                  int64\n",
       "dtype: object"
      ]
     },
     "execution_count": 5,
     "metadata": {},
     "output_type": "execute_result"
    }
   ],
   "source": [
    "data.dtypes"
   ]
  },
  {
   "cell_type": "code",
   "execution_count": 6,
   "metadata": {},
   "outputs": [
    {
     "data": {
      "text/html": [
       "<div>\n",
       "<style scoped>\n",
       "    .dataframe tbody tr th:only-of-type {\n",
       "        vertical-align: middle;\n",
       "    }\n",
       "\n",
       "    .dataframe tbody tr th {\n",
       "        vertical-align: top;\n",
       "    }\n",
       "\n",
       "    .dataframe thead th {\n",
       "        text-align: right;\n",
       "    }\n",
       "</style>\n",
       "<table border=\"1\" class=\"dataframe\">\n",
       "  <thead>\n",
       "    <tr style=\"text-align: right;\">\n",
       "      <th></th>\n",
       "      <th>day_1</th>\n",
       "      <th>day_2</th>\n",
       "      <th>day_3</th>\n",
       "      <th>day_4</th>\n",
       "      <th>day_5</th>\n",
       "      <th>day_6</th>\n",
       "      <th>day_7</th>\n",
       "      <th>state_0</th>\n",
       "      <th>state_a</th>\n",
       "      <th>state_b</th>\n",
       "      <th>state_c</th>\n",
       "      <th>ID</th>\n",
       "      <th>date</th>\n",
       "      <th>nb_customer</th>\n",
       "      <th>open</th>\n",
       "      <th>promo</th>\n",
       "      <th>school</th>\n",
       "    </tr>\n",
       "  </thead>\n",
       "  <tbody>\n",
       "    <tr>\n",
       "      <td>0</td>\n",
       "      <td>0</td>\n",
       "      <td>0</td>\n",
       "      <td>0</td>\n",
       "      <td>1</td>\n",
       "      <td>0</td>\n",
       "      <td>0</td>\n",
       "      <td>0</td>\n",
       "      <td>1</td>\n",
       "      <td>0</td>\n",
       "      <td>0</td>\n",
       "      <td>0</td>\n",
       "      <td>874</td>\n",
       "      <td>2014-12-18</td>\n",
       "      <td>653</td>\n",
       "      <td>1</td>\n",
       "      <td>1</td>\n",
       "      <td>0</td>\n",
       "    </tr>\n",
       "    <tr>\n",
       "      <td>1</td>\n",
       "      <td>1</td>\n",
       "      <td>0</td>\n",
       "      <td>0</td>\n",
       "      <td>0</td>\n",
       "      <td>0</td>\n",
       "      <td>0</td>\n",
       "      <td>0</td>\n",
       "      <td>1</td>\n",
       "      <td>0</td>\n",
       "      <td>0</td>\n",
       "      <td>0</td>\n",
       "      <td>244</td>\n",
       "      <td>2013-08-19</td>\n",
       "      <td>448</td>\n",
       "      <td>1</td>\n",
       "      <td>0</td>\n",
       "      <td>1</td>\n",
       "    </tr>\n",
       "    <tr>\n",
       "      <td>2</td>\n",
       "      <td>0</td>\n",
       "      <td>1</td>\n",
       "      <td>0</td>\n",
       "      <td>0</td>\n",
       "      <td>0</td>\n",
       "      <td>0</td>\n",
       "      <td>0</td>\n",
       "      <td>1</td>\n",
       "      <td>0</td>\n",
       "      <td>0</td>\n",
       "      <td>0</td>\n",
       "      <td>222</td>\n",
       "      <td>2014-06-10</td>\n",
       "      <td>627</td>\n",
       "      <td>1</td>\n",
       "      <td>0</td>\n",
       "      <td>0</td>\n",
       "    </tr>\n",
       "    <tr>\n",
       "      <td>3</td>\n",
       "      <td>0</td>\n",
       "      <td>0</td>\n",
       "      <td>0</td>\n",
       "      <td>0</td>\n",
       "      <td>1</td>\n",
       "      <td>0</td>\n",
       "      <td>0</td>\n",
       "      <td>1</td>\n",
       "      <td>0</td>\n",
       "      <td>0</td>\n",
       "      <td>0</td>\n",
       "      <td>655</td>\n",
       "      <td>2013-04-05</td>\n",
       "      <td>545</td>\n",
       "      <td>1</td>\n",
       "      <td>0</td>\n",
       "      <td>1</td>\n",
       "    </tr>\n",
       "    <tr>\n",
       "      <td>4</td>\n",
       "      <td>0</td>\n",
       "      <td>0</td>\n",
       "      <td>0</td>\n",
       "      <td>1</td>\n",
       "      <td>0</td>\n",
       "      <td>0</td>\n",
       "      <td>0</td>\n",
       "      <td>1</td>\n",
       "      <td>0</td>\n",
       "      <td>0</td>\n",
       "      <td>0</td>\n",
       "      <td>806</td>\n",
       "      <td>2013-12-19</td>\n",
       "      <td>729</td>\n",
       "      <td>1</td>\n",
       "      <td>1</td>\n",
       "      <td>0</td>\n",
       "    </tr>\n",
       "  </tbody>\n",
       "</table>\n",
       "</div>"
      ],
      "text/plain": [
       "   day_1  day_2  day_3  day_4  day_5  day_6  day_7  state_0  state_a  state_b  \\\n",
       "0      0      0      0      1      0      0      0        1        0        0   \n",
       "1      1      0      0      0      0      0      0        1        0        0   \n",
       "2      0      1      0      0      0      0      0        1        0        0   \n",
       "3      0      0      0      0      1      0      0        1        0        0   \n",
       "4      0      0      0      1      0      0      0        1        0        0   \n",
       "\n",
       "   state_c   ID       date  nb_customer  open  promo  school  \n",
       "0        0  874 2014-12-18          653     1      1       0  \n",
       "1        0  244 2013-08-19          448     1      0       1  \n",
       "2        0  222 2014-06-10          627     1      0       0  \n",
       "3        0  655 2013-04-05          545     1      0       1  \n",
       "4        0  806 2013-12-19          729     1      1       0  "
      ]
     },
     "execution_count": 6,
     "metadata": {},
     "output_type": "execute_result"
    }
   ],
   "source": [
    "data_extract=pd.get_dummies(data[[\"state\"]])\n",
    "extract= pd.get_dummies(data[\"day\"],'day')\n",
    "rest=data[[\"ID\",\"date\",\"nb_customer\",\"open\",\"promo\",\"school\"]]\n",
    "ddata=pd.concat([extract,data_extract,rest],axis=1)\n",
    "ddata.head()"
   ]
  },
  {
   "cell_type": "code",
   "execution_count": 7,
   "metadata": {},
   "outputs": [
    {
     "data": {
      "text/plain": [
       "day_1                   uint8\n",
       "day_2                   uint8\n",
       "day_3                   uint8\n",
       "day_4                   uint8\n",
       "day_5                   uint8\n",
       "day_6                   uint8\n",
       "day_7                   uint8\n",
       "state_0                 int64\n",
       "state_a                 int64\n",
       "state_b                 int64\n",
       "state_c                 int64\n",
       "ID                      int64\n",
       "date           datetime64[ns]\n",
       "nb_customer             int64\n",
       "open                    int64\n",
       "promo                   int64\n",
       "school                  int64\n",
       "dtype: object"
      ]
     },
     "execution_count": 7,
     "metadata": {},
     "output_type": "execute_result"
    }
   ],
   "source": [
    "ddata[\"state_0\"]=pd.DataFrame(ddata[\"state_0\"], dtype=int)\n",
    "ddata[\"state_a\"]=pd.DataFrame(ddata[\"state_a\"], dtype=int)\n",
    "ddata[\"state_b\"]=pd.DataFrame(ddata[\"state_b\"], dtype=int)\n",
    "ddata[\"state_c\"]=pd.DataFrame(ddata[\"state_c\"], dtype=int)\n",
    "ddata.dtypes\n",
    "        "
   ]
  },
  {
   "cell_type": "code",
   "execution_count": 8,
   "metadata": {},
   "outputs": [
    {
     "data": {
      "image/png": "[encoded data removed]",
      "text/plain": [
       "<Figure size 432x288 with 1 Axes>"
      ]
     },
     "metadata": {
      "needs_background": "light"
     },
     "output_type": "display_data"
    }
   ],
   "source": [
    "plt.scatter(ddata[\"day_3\"],ddata[\"nb_customer\"])\n",
    "plt.show()"
   ]
  },
  {
   "cell_type": "markdown",
   "metadata": {},
   "source": [
    "# ACP"
   ]
  },
  {
   "cell_type": "code",
   "execution_count": 68,
   "metadata": {},
   "outputs": [],
   "source": [
    "# ACP\n",
    "from sklearn.decomposition import PCA\n",
    "from sklearn.preprocessing import scale\n",
    "# réduction des variables\n",
    "X=scale(ddata[[\"nb_customer\",\"day_6\",\"day_7\",\"open\",\"state_0\",\"school\",\"promo\"]])"
   ]
  },
  {
   "cell_type": "code",
   "execution_count": 69,
   "metadata": {},
   "outputs": [
    {
     "data": {
      "image/png": "[encoded data removed]",
      "text/plain": [
       "<Figure size 432x288 with 1 Axes>"
      ]
     },
     "metadata": {
      "needs_background": "light"
     },
     "output_type": "display_data"
    }
   ],
   "source": [
    "pca = PCA()\n",
    "## Estimation, calcul des composantes principales\n",
    "C = pca.fit(X).transform(X)\n",
    "## Décroissance de la variance expliquée\n",
    "plt.plot(pca.explained_variance_ratio_)\n",
    "plt.show()"
   ]
  },
  {
   "cell_type": "code",
   "execution_count": 70,
   "metadata": {},
   "outputs": [
    {
     "name": "stdout",
     "output_type": "stream",
     "text": [
      "[0.30590967 0.22340638 0.18630602 0.14102202 0.08387956 0.05947636]\n"
     ]
    }
   ],
   "source": [
    "print(pca.explained_variance_ratio_)"
   ]
  },
  {
   "cell_type": "code",
   "execution_count": 47,
   "metadata": {},
   "outputs": [
    {
     "data": {
      "text/plain": [
       "array([ 0.09354338,  0.84707248,  0.03082244,  0.02802479,  0.03443206,\n",
       "        0.0383105 , -0.08148638,  0.08027071, -0.01995378,  0.00847033,\n",
       "        0.02184891,  0.00761738,  0.0694084 ,  0.11639283])"
      ]
     },
     "execution_count": 47,
     "metadata": {},
     "output_type": "execute_result"
    }
   ],
   "source": [
    "pca.get_covariance()[1]"
   ]
  },
  {
   "cell_type": "code",
   "execution_count": 31,
   "metadata": {},
   "outputs": [
    {
     "data": {
      "image/png": "[encoded data removed]",
      "text/plain": [
       "<Figure size 432x288 with 1 Axes>"
      ]
     },
     "metadata": {
      "needs_background": "light"
     },
     "output_type": "display_data"
    }
   ],
   "source": [
    "## distribution des composantes principales\n",
    "plt.boxplot(C[:,0:20])\n",
    "plt.show()"
   ]
  },
  {
   "cell_type": "code",
   "execution_count": 32,
   "metadata": {},
   "outputs": [
    {
     "name": "stdout",
     "output_type": "stream",
     "text": [
      "[0.581749 0.418251]\n"
     ]
    }
   ],
   "source": [
    "ex_variance=np.var(C,axis=0)\n",
    "ex_variance_ratio = ex_variance/np.sum(ex_variance)\n",
    "print (ex_variance_ratio) \n"
   ]
  },
  {
   "cell_type": "code",
   "execution_count": 50,
   "metadata": {},
   "outputs": [
    {
     "data": {
      "image/png": "[encoded data removed]",
      "text/plain": [
       "<Figure size 360x360 with 1 Axes>"
      ]
     },
     "metadata": {
      "needs_background": "light"
     },
     "output_type": "display_data"
    }
   ],
   "source": [
    "## coordonnées et représentation des variables\n",
    "coord1=pca.components_[0]*np.sqrt(pca.explained_variance_[0])\n",
    "coord2=pca.components_[1]*np.sqrt(pca.explained_variance_[1])\n",
    "fig = plt.figure(figsize=(5,5))\n",
    "ax = fig.add_subplot(1, 1, 1)\n",
    "for i, j, nom in zip(coord1,coord2, ddata[[\"nb_customer\",\"day_1\",\"day_6\",\"day_7\",\"open\",\"promo\",\"state_0\",\"school\"]].columns):\n",
    "    plt.text(i, j, nom)\n",
    "    plt.arrow(0,0,i,j,color='black')\n",
    "plt.axis((-1.2,1.2,-1.2,1.2))\n",
    "# cercle\n",
    "c=plt.Circle((0,0), radius=1, color='gray', fill=False)\n",
    "ax.add_patch(c)\n",
    "plt.show()"
   ]
  },
  {
   "cell_type": "code",
   "execution_count": null,
   "metadata": {},
   "outputs": [],
   "source": []
  },
  {
   "cell_type": "markdown",
   "metadata": {},
   "source": [
    "# APPRENTISSAGE -regression lineaire\n"
   ]
  },
  {
   "cell_type": "code",
   "execution_count": 99,
   "metadata": {},
   "outputs": [
    {
     "name": "stdout",
     "output_type": "stream",
     "text": [
      "<class 'pandas.core.frame.DataFrame'>\n",
      "RangeIndex: 712046 entries, 0 to 712045\n",
      "Data columns (total 7 columns):\n",
      "nb_customer    712046 non-null int64\n",
      "day_6          712046 non-null uint8\n",
      "day_7          712046 non-null uint8\n",
      "open           712046 non-null int64\n",
      "state_0        712046 non-null uint8\n",
      "school         712046 non-null int64\n",
      "promo          712046 non-null int64\n",
      "dtypes: int64(4), uint8(3)\n",
      "memory usage: 23.8 MB\n"
     ]
    }
   ],
   "source": [
    "# Variables explicatives sur les données train\n",
    "data_extract=pd.get_dummies(data[[\"state\"]])\n",
    "extract= pd.get_dummies(data[\"day\"],'day')\n",
    "rest=data[[\"nb_customer\",\"open\",\"promo\",\"school\"]]\n",
    "data_train2=pd.concat([extract,data_extract,rest],axis=1)\n",
    "\n",
    "# choix des paramètres à prendre en compte\n",
    "data_train = data_train2[[\"nb_customer\",\"day_6\",\"day_7\",\"open\",\"state_0\",\"school\",\"promo\"]]\n",
    "data_train.info()"
   ]
  },
  {
   "cell_type": "code",
   "execution_count": 100,
   "metadata": {},
   "outputs": [
    {
     "name": "stdout",
     "output_type": "stream",
     "text": [
      "<class 'pandas.core.frame.DataFrame'>\n",
      "RangeIndex: 712046 entries, 0 to 712045\n",
      "Data columns (total 1 columns):\n",
      "sales    712046 non-null int64\n",
      "dtypes: int64(1)\n",
      "memory usage: 5.4 MB\n"
     ]
    }
   ],
   "source": [
    "#extraction données solution\n",
    "cible = pd.read_csv(path+\"/store_train.solution\",sep=\" \",names = ['sales'])\n",
    "\n",
    "# variable à expliquer réelle\n",
    "Yr_train=cible[\"sales\"]\n",
    "cible.info()"
   ]
  },
  {
   "cell_type": "code",
   "execution_count": 101,
   "metadata": {},
   "outputs": [
    {
     "name": "stdout",
     "output_type": "stream",
     "text": [
      "<class 'pandas.core.frame.DataFrame'>\n",
      "RangeIndex: 203441 entries, 0 to 203440\n",
      "Data columns (total 7 columns):\n",
      "nb_customer    203441 non-null int64\n",
      "day_6          203441 non-null uint8\n",
      "day_7          203441 non-null uint8\n",
      "open           203441 non-null int64\n",
      "state_0        203441 non-null uint8\n",
      "school         203441 non-null int64\n",
      "promo          203441 non-null int64\n",
      "dtypes: int64(4), uint8(3)\n",
      "memory usage: 6.8 MB\n"
     ]
    }
   ],
   "source": [
    "#extraction données test\n",
    "ddata_test = pd.read_csv(path+\"/store_test.data\",sep=\" \",names = ['ID', 'day', 'date', 'nb_customer','open','promo','state','school'])\n",
    "\n",
    "\n",
    "ddat=pd.get_dummies(ddata_test[[\"state\"]])\n",
    "extract2= pd.get_dummies(ddata_test[\"day\"],'day')\n",
    "rest_5=ddata_test[[\"nb_customer\",\"open\",\"promo\",\"school\"]]\n",
    "data_test2=pd.concat([extract2,ddat,rest_5],axis=1)\n",
    "\n",
    "# choix des paramètres à prendre en compte\n",
    "data_test = data_test2[[\"nb_customer\",\"day_6\",\"day_7\",\"open\",\"state_0\",\"school\",\"promo\"]]\n",
    "data_test.info()\n",
    "      "
   ]
  },
  {
   "cell_type": "code",
   "execution_count": 102,
   "metadata": {},
   "outputs": [],
   "source": [
    "from sklearn import linear_model\n",
    "regLasso = linear_model.Lasso()\n",
    "regLasso.fit(data_train,cible)\n",
    "prevision=regLasso.predict(data_test)"
   ]
  },
  {
   "cell_type": "code",
   "execution_count": 103,
   "metadata": {},
   "outputs": [
    {
     "name": "stdout",
     "output_type": "stream",
     "text": [
      "203441\n"
     ]
    }
   ],
   "source": [
    "print(len(prevision))"
   ]
  },
  {
   "cell_type": "code",
   "execution_count": 104,
   "metadata": {},
   "outputs": [],
   "source": [
    "#  mise en forme du FICHIER DE SORTIE pour l'UPLOAD\n",
    "#\n",
    "\n",
    "np.savetxt('/home/gleprince/kaggle-store-optimisation/output/scores.txt', prevision, fmt='%d')"
   ]
  },
  {
   "cell_type": "code",
   "execution_count": 105,
   "metadata": {},
   "outputs": [
    {
     "data": {
      "text/plain": [
       "23.554605594942586"
      ]
     },
     "execution_count": 105,
     "metadata": {},
     "output_type": "execute_result"
    }
   ],
   "source": [
    "prevision.max()-prevision.min()"
   ]
  },
  {
   "cell_type": "code",
   "execution_count": null,
   "metadata": {},
   "outputs": [],
   "source": []
  },
  {
   "cell_type": "code",
   "execution_count": null,
   "metadata": {},
   "outputs": [],
   "source": []
  },
  {
   "cell_type": "code",
   "execution_count": null,
   "metadata": {},
   "outputs": [],
   "source": []
  },
  {
   "cell_type": "code",
   "execution_count": null,
   "metadata": {},
   "outputs": [],
   "source": []
  },
  {
   "cell_type": "code",
   "execution_count": null,
   "metadata": {},
   "outputs": [],
   "source": []
  },
  {
   "cell_type": "code",
   "execution_count": null,
   "metadata": {},
   "outputs": [],
   "source": []
  },
  {
   "cell_type": "code",
   "execution_count": null,
   "metadata": {},
   "outputs": [],
   "source": []
  },
  {
   "cell_type": "code",
   "execution_count": null,
   "metadata": {},
   "outputs": [],
   "source": []
  },
  {
   "cell_type": "code",
   "execution_count": null,
   "metadata": {},
   "outputs": [],
   "source": []
  },
  {
   "cell_type": "code",
   "execution_count": null,
   "metadata": {},
   "outputs": [],
   "source": []
  },
  {
   "cell_type": "code",
   "execution_count": null,
   "metadata": {},
   "outputs": [],
   "source": []
  },
  {
   "cell_type": "code",
   "execution_count": null,
   "metadata": {},
   "outputs": [],
   "source": []
  },
  {
   "cell_type": "code",
   "execution_count": null,
   "metadata": {},
   "outputs": [],
   "source": []
  },
  {
   "cell_type": "code",
   "execution_count": 121,
   "metadata": {},
   "outputs": [],
   "source": []
  },
  {
   "cell_type": "code",
   "execution_count": null,
   "metadata": {},
   "outputs": [],
   "source": []
  },
  {
   "cell_type": "code",
   "execution_count": null,
   "metadata": {},
   "outputs": [],
   "source": []
  },
  {
   "cell_type": "code",
   "execution_count": null,
   "metadata": {},
   "outputs": [],
   "source": []
  },
  {
   "cell_type": "code",
   "execution_count": null,
   "metadata": {},
   "outputs": [],
   "source": []
  },
  {
   "cell_type": "code",
   "execution_count": null,
   "metadata": {},
   "outputs": [],
   "source": []
  },
  {
   "cell_type": "code",
   "execution_count": null,
   "metadata": {},
   "outputs": [],
   "source": []
  },
  {
   "cell_type": "code",
   "execution_count": null,
   "metadata": {},
   "outputs": [],
   "source": []
  },
  {
   "cell_type": "code",
   "execution_count": null,
   "metadata": {},
   "outputs": [],
   "source": []
  },
  {
   "cell_type": "code",
   "execution_count": null,
   "metadata": {},
   "outputs": [],
   "source": []
  },
  {
   "cell_type": "markdown",
   "metadata": {},
   "source": [
    "## tentative d'entrainement supplémentaire en splittant\n",
    "\n"
   ]
  },
  {
   "cell_type": "code",
   "execution_count": 22,
   "metadata": {},
   "outputs": [],
   "source": [
    "from sklearn.model_selection import train_test_split  \n",
    "\n",
    "size_test = 300000 # taille de la partition de test\n",
    "X_train,X_test,Yr_train,Yr_test=train_test_split(data_train,sol,test_size=size_test,random_state=11)"
   ]
  },
  {
   "cell_type": "code",
   "execution_count": 23,
   "metadata": {},
   "outputs": [],
   "source": [
    "#NORMALISATION\n",
    "\n",
    "from sklearn.preprocessing import StandardScaler  \n",
    "scaler = StandardScaler()  \n",
    "scaler.fit(X_train)  \n",
    "Xr_train = scaler.transform(X_train)  \n",
    "# Meme transformation sur le test\n",
    "Xr_test = scaler.transform(X_test)"
   ]
  },
  {
   "cell_type": "code",
   "execution_count": 24,
   "metadata": {},
   "outputs": [
    {
     "name": "stdout",
     "output_type": "stream",
     "text": [
      "<class 'pandas.core.frame.DataFrame'>\n",
      "Int64Index: 412046 entries, 443906 to 403353\n",
      "Data columns (total 9 columns):\n",
      "state_0        412046 non-null uint8\n",
      "state_a        412046 non-null uint8\n",
      "state_b        412046 non-null uint8\n",
      "state_c        412046 non-null uint8\n",
      "day            412046 non-null int64\n",
      "nb_customer    412046 non-null int64\n",
      "open           412046 non-null int64\n",
      "promo          412046 non-null int64\n",
      "school         412046 non-null int64\n",
      "dtypes: int64(5), uint8(4)\n",
      "memory usage: 20.4 MB\n"
     ]
    }
   ],
   "source": [
    "X_train.info()"
   ]
  },
  {
   "cell_type": "code",
   "execution_count": 25,
   "metadata": {},
   "outputs": [],
   "source": [
    "#RESHAPE pour bien spécifier nombre de ligne et de colonnes\n",
    "Xr_train=Xr_train.reshape((len(data_train)-size_test,9))\n",
    "Xr_test=Xr_test.reshape((size_test,9))"
   ]
  },
  {
   "cell_type": "markdown",
   "metadata": {},
   "source": [
    "## regression linéaire\n"
   ]
  },
  {
   "cell_type": "code",
   "execution_count": 26,
   "metadata": {},
   "outputs": [
    {
     "name": "stdout",
     "output_type": "stream",
     "text": [
      "MSE= 14324840.22108701\n"
     ]
    }
   ],
   "source": [
    "from sklearn import linear_model\n",
    "from sklearn.metrics import mean_squared_error\n",
    "regLasso = linear_model.Lasso()\n",
    "regLasso.fit(Xr_train,Yr_train)\n",
    "prev=regLasso.predict(Xr_test)\n",
    "print(\"MSE=\",mean_squared_error(Yr_test,prev))"
   ]
  },
  {
   "cell_type": "code",
   "execution_count": 27,
   "metadata": {},
   "outputs": [
    {
     "name": "stdout",
     "output_type": "stream",
     "text": [
      "R2= -2.4165760766470257e-05\n"
     ]
    }
   ],
   "source": [
    "from sklearn.metrics import r2_score\n",
    "print(\"R2=\",r2_score(Yr_test,prev))"
   ]
  },
  {
   "cell_type": "code",
   "execution_count": 28,
   "metadata": {},
   "outputs": [
    {
     "data": {
      "text/plain": [
       "array([-0.        , -0.        ,  0.        ,  0.        ,  4.34184841,\n",
       "        0.01675568, -0.        , -1.93367598, -4.28689196])"
      ]
     },
     "execution_count": 28,
     "metadata": {},
     "output_type": "execute_result"
    }
   ],
   "source": [
    "model_lasso=regLasso.fit(X_train,Yr_train)\n",
    "model_lasso.coef_"
   ]
  },
  {
   "cell_type": "code",
   "execution_count": 29,
   "metadata": {},
   "outputs": [
    {
     "name": "stdout",
     "output_type": "stream",
     "text": [
      "Lasso conserve 4 variables et en supprime 5\n"
     ]
    }
   ],
   "source": [
    "coef = pd.Series(model_lasso.coef_, index = data_train.columns)\n",
    "print(\"Lasso conserve \" + str(sum(coef != 0)) + \n",
    "      \" variables et en supprime \" +  str(sum(coef == 0)))"
   ]
  },
  {
   "cell_type": "code",
   "execution_count": 30,
   "metadata": {},
   "outputs": [
    {
     "data": {
      "text/plain": [
       "Text(0.5, 1.0, 'Coefficients du modèle lasso')"
      ]
     },
     "execution_count": 30,
     "metadata": {},
     "output_type": "execute_result"
    },
    {
     "data": {
      "image/png": "[encoded data removed]",
      "text/plain": [
       "<Figure size 576x720 with 1 Axes>"
      ]
     },
     "metadata": {
      "needs_background": "light"
     },
     "output_type": "display_data"
    }
   ],
   "source": [
    "imp_coef = coef.sort_values()\n",
    "plt.rcParams['figure.figsize'] = (8.0, 10.0)\n",
    "imp_coef.plot(kind = \"barh\")\n",
    "plt.title(u\"Coefficients du modèle lasso\")"
   ]
  },
  {
   "cell_type": "code",
   "execution_count": null,
   "metadata": {},
   "outputs": [],
   "source": []
  },
  {
   "cell_type": "code",
   "execution_count": null,
   "metadata": {},
   "outputs": [],
   "source": []
  },
  {
   "cell_type": "code",
   "execution_count": null,
   "metadata": {},
   "outputs": [],
   "source": []
  },
  {
   "cell_type": "code",
   "execution_count": null,
   "metadata": {},
   "outputs": [],
   "source": []
  },
  {
   "cell_type": "code",
   "execution_count": null,
   "metadata": {},
   "outputs": [],
   "source": []
  },
  {
   "cell_type": "code",
   "execution_count": 89,
   "metadata": {},
   "outputs": [],
   "source": []
  },
  {
   "cell_type": "code",
   "execution_count": 78,
   "metadata": {},
   "outputs": [],
   "source": []
  },
  {
   "cell_type": "code",
   "execution_count": null,
   "metadata": {},
   "outputs": [],
   "source": []
  },
  {
   "cell_type": "code",
   "execution_count": null,
   "metadata": {},
   "outputs": [],
   "source": []
  }
 ],
 "metadata": {
  "kernelspec": {
   "display_name": "Python 3",
   "language": "python",
   "name": "python3"
  },
  "language_info": {
   "codemirror_mode": {
    "name": "ipython",
    "version": 3
   },
   "file_extension": ".py",
   "mimetype": "text/x-python",
   "name": "python",
   "nbconvert_exporter": "python",
   "pygments_lexer": "ipython3",
   "version": "3.7.4"
  }
 },
 "nbformat": 4,
 "nbformat_minor": 2
}
