{
 "cells": [
  {
   "cell_type": "code",
   "execution_count": 4,
   "metadata": {},
   "outputs": [],
   "source": [
    "# Librairies\n",
    "import numpy as np\n",
    "from scipy import sparse\n",
    "import pandas as pd\n",
    "import matplotlib.pyplot as plt\n",
    "\n",
    "path =\"/home/gleprince/Documents/Certificat/Projet_2/starting_kit/sample_data\"\n",
    "data = pd.read_csv(path+\"/store_train.data\",sep=\" \",names = ['ID', 'day', 'date', 'nb_customer','open','promo','state','school'])"
   ]
  },
  {
   "cell_type": "code",
   "execution_count": 5,
   "metadata": {},
   "outputs": [
    {
     "data": {
      "text/html": [
       "<div>\n",
       "<style scoped>\n",
       "    .dataframe tbody tr th:only-of-type {\n",
       "        vertical-align: middle;\n",
       "    }\n",
       "\n",
       "    .dataframe tbody tr th {\n",
       "        vertical-align: top;\n",
       "    }\n",
       "\n",
       "    .dataframe thead th {\n",
       "        text-align: right;\n",
       "    }\n",
       "</style>\n",
       "<table border=\"1\" class=\"dataframe\">\n",
       "  <thead>\n",
       "    <tr style=\"text-align: right;\">\n",
       "      <th></th>\n",
       "      <th>ID</th>\n",
       "      <th>day</th>\n",
       "      <th>date</th>\n",
       "      <th>nb_customer</th>\n",
       "      <th>open</th>\n",
       "      <th>promo</th>\n",
       "      <th>state</th>\n",
       "      <th>school</th>\n",
       "    </tr>\n",
       "  </thead>\n",
       "  <tbody>\n",
       "    <tr>\n",
       "      <td>0</td>\n",
       "      <td>874</td>\n",
       "      <td>4</td>\n",
       "      <td>2014-12-18</td>\n",
       "      <td>653</td>\n",
       "      <td>1</td>\n",
       "      <td>1</td>\n",
       "      <td>0</td>\n",
       "      <td>0</td>\n",
       "    </tr>\n",
       "    <tr>\n",
       "      <td>1</td>\n",
       "      <td>244</td>\n",
       "      <td>1</td>\n",
       "      <td>2013-08-19</td>\n",
       "      <td>448</td>\n",
       "      <td>1</td>\n",
       "      <td>0</td>\n",
       "      <td>0</td>\n",
       "      <td>1</td>\n",
       "    </tr>\n",
       "    <tr>\n",
       "      <td>2</td>\n",
       "      <td>222</td>\n",
       "      <td>2</td>\n",
       "      <td>2014-06-10</td>\n",
       "      <td>627</td>\n",
       "      <td>1</td>\n",
       "      <td>0</td>\n",
       "      <td>0</td>\n",
       "      <td>0</td>\n",
       "    </tr>\n",
       "    <tr>\n",
       "      <td>3</td>\n",
       "      <td>655</td>\n",
       "      <td>5</td>\n",
       "      <td>2013-04-05</td>\n",
       "      <td>545</td>\n",
       "      <td>1</td>\n",
       "      <td>0</td>\n",
       "      <td>0</td>\n",
       "      <td>1</td>\n",
       "    </tr>\n",
       "    <tr>\n",
       "      <td>4</td>\n",
       "      <td>806</td>\n",
       "      <td>4</td>\n",
       "      <td>2013-12-19</td>\n",
       "      <td>729</td>\n",
       "      <td>1</td>\n",
       "      <td>1</td>\n",
       "      <td>0</td>\n",
       "      <td>0</td>\n",
       "    </tr>\n",
       "  </tbody>\n",
       "</table>\n",
       "</div>"
      ],
      "text/plain": [
       "    ID  day        date  nb_customer  open  promo state  school\n",
       "0  874    4  2014-12-18          653     1      1     0       0\n",
       "1  244    1  2013-08-19          448     1      0     0       1\n",
       "2  222    2  2014-06-10          627     1      0     0       0\n",
       "3  655    5  2013-04-05          545     1      0     0       1\n",
       "4  806    4  2013-12-19          729     1      1     0       0"
      ]
     },
     "execution_count": 5,
     "metadata": {},
     "output_type": "execute_result"
    }
   ],
   "source": [
    "data.head()"
   ]
  },
  {
   "cell_type": "code",
   "execution_count": 6,
   "metadata": {},
   "outputs": [
    {
     "data": {
      "text/plain": [
       "ID              int64\n",
       "day             int64\n",
       "date           object\n",
       "nb_customer     int64\n",
       "open            int64\n",
       "promo           int64\n",
       "state          object\n",
       "school          int64\n",
       "dtype: object"
      ]
     },
     "execution_count": 6,
     "metadata": {},
     "output_type": "execute_result"
    }
   ],
   "source": [
    "data.dtypes"
   ]
  },
  {
   "cell_type": "code",
   "execution_count": 7,
   "metadata": {},
   "outputs": [],
   "source": [
    "data[\"date\"]=pd.Categorical(data[\"date\"],ordered=False)\n",
    "data[\"state\"]=pd.Categorical(data[\"state\"],ordered=False)"
   ]
  },
  {
   "cell_type": "code",
   "execution_count": 8,
   "metadata": {},
   "outputs": [
    {
     "data": {
      "text/html": [
       "<div>\n",
       "<style scoped>\n",
       "    .dataframe tbody tr th:only-of-type {\n",
       "        vertical-align: middle;\n",
       "    }\n",
       "\n",
       "    .dataframe tbody tr th {\n",
       "        vertical-align: top;\n",
       "    }\n",
       "\n",
       "    .dataframe thead th {\n",
       "        text-align: right;\n",
       "    }\n",
       "</style>\n",
       "<table border=\"1\" class=\"dataframe\">\n",
       "  <thead>\n",
       "    <tr style=\"text-align: right;\">\n",
       "      <th></th>\n",
       "      <th>state_0</th>\n",
       "      <th>state_a</th>\n",
       "      <th>state_b</th>\n",
       "      <th>state_c</th>\n",
       "      <th>ID</th>\n",
       "      <th>day</th>\n",
       "      <th>date</th>\n",
       "      <th>nb_customer</th>\n",
       "      <th>open</th>\n",
       "      <th>promo</th>\n",
       "      <th>school</th>\n",
       "    </tr>\n",
       "  </thead>\n",
       "  <tbody>\n",
       "    <tr>\n",
       "      <td>0</td>\n",
       "      <td>1</td>\n",
       "      <td>0</td>\n",
       "      <td>0</td>\n",
       "      <td>0</td>\n",
       "      <td>874</td>\n",
       "      <td>4</td>\n",
       "      <td>2014-12-18</td>\n",
       "      <td>653</td>\n",
       "      <td>1</td>\n",
       "      <td>1</td>\n",
       "      <td>0</td>\n",
       "    </tr>\n",
       "    <tr>\n",
       "      <td>1</td>\n",
       "      <td>1</td>\n",
       "      <td>0</td>\n",
       "      <td>0</td>\n",
       "      <td>0</td>\n",
       "      <td>244</td>\n",
       "      <td>1</td>\n",
       "      <td>2013-08-19</td>\n",
       "      <td>448</td>\n",
       "      <td>1</td>\n",
       "      <td>0</td>\n",
       "      <td>1</td>\n",
       "    </tr>\n",
       "    <tr>\n",
       "      <td>2</td>\n",
       "      <td>1</td>\n",
       "      <td>0</td>\n",
       "      <td>0</td>\n",
       "      <td>0</td>\n",
       "      <td>222</td>\n",
       "      <td>2</td>\n",
       "      <td>2014-06-10</td>\n",
       "      <td>627</td>\n",
       "      <td>1</td>\n",
       "      <td>0</td>\n",
       "      <td>0</td>\n",
       "    </tr>\n",
       "    <tr>\n",
       "      <td>3</td>\n",
       "      <td>1</td>\n",
       "      <td>0</td>\n",
       "      <td>0</td>\n",
       "      <td>0</td>\n",
       "      <td>655</td>\n",
       "      <td>5</td>\n",
       "      <td>2013-04-05</td>\n",
       "      <td>545</td>\n",
       "      <td>1</td>\n",
       "      <td>0</td>\n",
       "      <td>1</td>\n",
       "    </tr>\n",
       "    <tr>\n",
       "      <td>4</td>\n",
       "      <td>1</td>\n",
       "      <td>0</td>\n",
       "      <td>0</td>\n",
       "      <td>0</td>\n",
       "      <td>806</td>\n",
       "      <td>4</td>\n",
       "      <td>2013-12-19</td>\n",
       "      <td>729</td>\n",
       "      <td>1</td>\n",
       "      <td>1</td>\n",
       "      <td>0</td>\n",
       "    </tr>\n",
       "  </tbody>\n",
       "</table>\n",
       "</div>"
      ],
      "text/plain": [
       "   state_0  state_a  state_b  state_c   ID  day        date  nb_customer  \\\n",
       "0        1        0        0        0  874    4  2014-12-18          653   \n",
       "1        1        0        0        0  244    1  2013-08-19          448   \n",
       "2        1        0        0        0  222    2  2014-06-10          627   \n",
       "3        1        0        0        0  655    5  2013-04-05          545   \n",
       "4        1        0        0        0  806    4  2013-12-19          729   \n",
       "\n",
       "   open  promo  school  \n",
       "0     1      1       0  \n",
       "1     1      0       1  \n",
       "2     1      0       0  \n",
       "3     1      0       1  \n",
       "4     1      1       0  "
      ]
     },
     "execution_count": 8,
     "metadata": {},
     "output_type": "execute_result"
    }
   ],
   "source": [
    "data_extract=pd.get_dummies(data[[\"state\"]])\n",
    "rest=data[[\"ID\",\"day\",\"date\",\"nb_customer\",\"open\",\"promo\",\"school\"]]\n",
    "ddata=pd.concat([data_extract,rest],axis=1)\n",
    "ddata.head()"
   ]
  },
  {
   "cell_type": "code",
   "execution_count": 9,
   "metadata": {},
   "outputs": [
    {
     "data": {
      "text/plain": [
       "state_0           int64\n",
       "state_a           int64\n",
       "state_b           int64\n",
       "state_c           int64\n",
       "ID                int64\n",
       "day               int64\n",
       "date           category\n",
       "nb_customer       int64\n",
       "open              int64\n",
       "promo             int64\n",
       "school            int64\n",
       "dtype: object"
      ]
     },
     "execution_count": 9,
     "metadata": {},
     "output_type": "execute_result"
    }
   ],
   "source": [
    "ddata[\"state_0\"]=pd.DataFrame(ddata[\"state_0\"], dtype=int)\n",
    "ddata[\"state_a\"]=pd.DataFrame(ddata[\"state_a\"], dtype=int)\n",
    "ddata[\"state_b\"]=pd.DataFrame(ddata[\"state_b\"], dtype=int)\n",
    "ddata[\"state_c\"]=pd.DataFrame(ddata[\"state_c\"], dtype=int)\n",
    "ddata.dtypes\n",
    "        "
   ]
  },
  {
   "cell_type": "code",
   "execution_count": 10,
   "metadata": {},
   "outputs": [
    {
     "data": {
      "image/png": "[encoded data removed]",
      "text/plain": [
       "<Figure size 432x288 with 1 Axes>"
      ]
     },
     "metadata": {
      "needs_background": "light"
     },
     "output_type": "display_data"
    }
   ],
   "source": [
    "plt.scatter(data[\"day\"],data[\"nb_customer\"])\n",
    "plt.show()"
   ]
  },
  {
   "cell_type": "markdown",
   "metadata": {},
   "source": [
    "# ACP"
   ]
  },
  {
   "cell_type": "code",
   "execution_count": 11,
   "metadata": {},
   "outputs": [],
   "source": [
    "# ACP\n",
    "from sklearn.decomposition import PCA\n",
    "from sklearn.preprocessing import scale\n",
    "# réduction des variables\n",
    "X=scale(ddata[[\"nb_customer\",\"day\",\"open\",\"state_0\",\"state_a\",\"state_b\",\"state_c\",\"school\",\"promo\"]])"
   ]
  },
  {
   "cell_type": "code",
   "execution_count": 12,
   "metadata": {},
   "outputs": [
    {
     "data": {
      "image/png": "[encoded data removed]",
      "text/plain": [
       "<Figure size 432x288 with 1 Axes>"
      ]
     },
     "metadata": {
      "needs_background": "light"
     },
     "output_type": "display_data"
    }
   ],
   "source": [
    "pca = PCA()\n",
    "## Estimation, calcul des composantes principales\n",
    "C = pca.fit(X).transform(X)\n",
    "## Décroissance de la variance expliquée\n",
    "plt.plot(pca.explained_variance_ratio_)\n",
    "plt.show()"
   ]
  },
  {
   "cell_type": "code",
   "execution_count": 13,
   "metadata": {},
   "outputs": [
    {
     "name": "stdout",
     "output_type": "stream",
     "text": [
      "[2.91851830e-01 2.11476376e-01 1.23972456e-01 1.12168200e-01\n",
      " 9.02125196e-02 7.71901284e-02 6.06005508e-02 3.25279391e-02\n",
      " 1.06889385e-29]\n"
     ]
    }
   ],
   "source": [
    "print(pca.explained_variance_ratio_)"
   ]
  },
  {
   "cell_type": "code",
   "execution_count": 14,
   "metadata": {},
   "outputs": [
    {
     "data": {
      "image/png": "[encoded data removed]",
      "text/plain": [
       "<Figure size 432x288 with 1 Axes>"
      ]
     },
     "metadata": {
      "needs_background": "light"
     },
     "output_type": "display_data"
    }
   ],
   "source": [
    "## distribution des composantes principales\n",
    "plt.boxplot(C[:,0:20])\n",
    "plt.show()"
   ]
  },
  {
   "cell_type": "code",
   "execution_count": 15,
   "metadata": {},
   "outputs": [
    {
     "name": "stdout",
     "output_type": "stream",
     "text": [
      "[2.91851830e-01 2.11476376e-01 1.23972456e-01 1.12168200e-01\n",
      " 9.02125196e-02 7.71901284e-02 6.06005508e-02 3.25279391e-02\n",
      " 1.11115165e-29]\n"
     ]
    }
   ],
   "source": [
    "ex_variance=np.var(C,axis=0)\n",
    "ex_variance_ratio = ex_variance/np.sum(ex_variance)\n",
    "print (ex_variance_ratio) \n"
   ]
  },
  {
   "cell_type": "code",
   "execution_count": 16,
   "metadata": {},
   "outputs": [
    {
     "data": {
      "image/png": "[encoded data removed]",
      "text/plain": [
       "<Figure size 360x360 with 1 Axes>"
      ]
     },
     "metadata": {
      "needs_background": "light"
     },
     "output_type": "display_data"
    }
   ],
   "source": [
    "## coordonnées et représentation des variables\n",
    "coord1=pca.components_[0]*np.sqrt(pca.explained_variance_[0])\n",
    "coord2=pca.components_[1]*np.sqrt(pca.explained_variance_[1])\n",
    "fig = plt.figure(figsize=(5,5))\n",
    "ax = fig.add_subplot(1, 1, 1)\n",
    "for i, j, nom in zip(coord1,coord2, ddata[[\"nb_customer\",\"day\",\"open\",\"promo\",\"state_0\",\"state_a\",\"state_b\",\"state_c\",\"school\"]].columns):\n",
    "    plt.text(i, j, nom)\n",
    "    plt.arrow(0,0,i,j,color='black')\n",
    "plt.axis((-1.2,1.2,-1.2,1.2))\n",
    "# cercle\n",
    "c=plt.Circle((0,0), radius=1, color='gray', fill=False)\n",
    "ax.add_patch(c)\n",
    "plt.show()"
   ]
  },
  {
   "cell_type": "markdown",
   "metadata": {},
   "source": [
    "# APPRENTISSAGE\n"
   ]
  },
  {
   "cell_type": "code",
   "execution_count": 31,
   "metadata": {},
   "outputs": [
    {
     "name": "stdout",
     "output_type": "stream",
     "text": [
      "<class 'pandas.core.frame.DataFrame'>\n",
      "RangeIndex: 712046 entries, 0 to 712045\n",
      "Data columns (total 10 columns):\n",
      "state_0        712046 non-null uint8\n",
      "state_a        712046 non-null uint8\n",
      "state_b        712046 non-null uint8\n",
      "state_c        712046 non-null uint8\n",
      "ID             712046 non-null int64\n",
      "day            712046 non-null int64\n",
      "nb_customer    712046 non-null int64\n",
      "open           712046 non-null int64\n",
      "promo          712046 non-null int64\n",
      "school         712046 non-null int64\n",
      "dtypes: int64(6), uint8(4)\n",
      "memory usage: 35.3 MB\n"
     ]
    }
   ],
   "source": [
    "# Variables explicatives sur les données train\n",
    "data_extract=pd.get_dummies(data[[\"state\"]])\n",
    "rest=data[[\"ID\",\"day\",\"nb_customer\",\"open\",\"promo\",\"school\"]]\n",
    "data_train=pd.concat([data_extract,rest],axis=1)\n",
    "data_train.info()"
   ]
  },
  {
   "cell_type": "code",
   "execution_count": 32,
   "metadata": {},
   "outputs": [
    {
     "name": "stdout",
     "output_type": "stream",
     "text": [
      "<class 'pandas.core.frame.DataFrame'>\n",
      "RangeIndex: 712046 entries, 0 to 712045\n",
      "Data columns (total 1 columns):\n",
      "sales    712046 non-null int64\n",
      "dtypes: int64(1)\n",
      "memory usage: 5.4 MB\n"
     ]
    }
   ],
   "source": [
    "#extraction données solution\n",
    "sol = pd.read_csv(path+\"/store_train.solution\",sep=\" \",names = ['sales'])\n",
    "\n",
    "# variable à expliquer réelle\n",
    "Yr_train=sol[\"sales\"]\n",
    "sol.info()"
   ]
  },
  {
   "cell_type": "code",
   "execution_count": 33,
   "metadata": {},
   "outputs": [
    {
     "name": "stdout",
     "output_type": "stream",
     "text": [
      "<class 'pandas.core.frame.DataFrame'>\n",
      "RangeIndex: 203441 entries, 0 to 203440\n",
      "Data columns (total 10 columns):\n",
      "state_0        203441 non-null uint8\n",
      "state_a        203441 non-null uint8\n",
      "state_b        203441 non-null uint8\n",
      "state_c        203441 non-null uint8\n",
      "ID             203441 non-null int64\n",
      "day            203441 non-null int64\n",
      "nb_customer    203441 non-null int64\n",
      "open           203441 non-null int64\n",
      "promo          203441 non-null int64\n",
      "school         203441 non-null int64\n",
      "dtypes: int64(6), uint8(4)\n",
      "memory usage: 10.1 MB\n"
     ]
    }
   ],
   "source": [
    "#extraction données test\n",
    "ddata_test = pd.read_csv(path+\"/store_test.data\",sep=\" \",names = ['ID', 'day', 'date', 'nb_customer','open','promo','state','school'])\n",
    "\n",
    "\n",
    "ddat=pd.get_dummies(ddata_test[[\"state\"]])\n",
    "rest_5=ddata_test[[\"ID\",\"day\",\"nb_customer\",\"open\",\"promo\",\"school\"]]\n",
    "data_test=pd.concat([ddat,rest_5],axis=1)\n",
    "data_test.info()"
   ]
  },
  {
   "cell_type": "code",
   "execution_count": 34,
   "metadata": {},
   "outputs": [],
   "source": [
    "from sklearn import linear_model\n",
    "regLasso = linear_model.Lasso()\n",
    "regLasso.fit(data_train,sol)\n",
    "prevision=regLasso.predict(data_test)"
   ]
  },
  {
   "cell_type": "code",
   "execution_count": 35,
   "metadata": {},
   "outputs": [
    {
     "name": "stdout",
     "output_type": "stream",
     "text": [
      "203441\n"
     ]
    }
   ],
   "source": [
    "print(len(prevision))"
   ]
  },
  {
   "cell_type": "code",
   "execution_count": 38,
   "metadata": {},
   "outputs": [],
   "source": [
    "#  mise en forme du FICHIER DE SORTIE pour l'UPLOAD\n",
    "# Lk\n",
    "\n",
    "np.savetxt('/home/gleprince/Documents/Certificat/Projet_2/starting_kit/sample_data/scores.txt', prevision, fmt='%d')"
   ]
  },
  {
   "cell_type": "code",
   "execution_count": null,
   "metadata": {},
   "outputs": [],
   "source": []
  },
  {
   "cell_type": "code",
   "execution_count": null,
   "metadata": {},
   "outputs": [],
   "source": []
  },
  {
   "cell_type": "code",
   "execution_count": null,
   "metadata": {},
   "outputs": [],
   "source": []
  },
  {
   "cell_type": "code",
   "execution_count": null,
   "metadata": {},
   "outputs": [],
   "source": []
  },
  {
   "cell_type": "code",
   "execution_count": null,
   "metadata": {},
   "outputs": [],
   "source": []
  },
  {
   "cell_type": "code",
   "execution_count": null,
   "metadata": {},
   "outputs": [],
   "source": []
  },
  {
   "cell_type": "code",
   "execution_count": null,
   "metadata": {},
   "outputs": [],
   "source": []
  },
  {
   "cell_type": "code",
   "execution_count": null,
   "metadata": {},
   "outputs": [],
   "source": []
  },
  {
   "cell_type": "code",
   "execution_count": 1,
   "metadata": {},
   "outputs": [],
   "source": []
  },
  {
   "cell_type": "markdown",
   "metadata": {},
   "source": [
    "## tentative d'entrainement supplémentaire en splittant\n",
    "\n"
   ]
  },
  {
   "cell_type": "code",
   "execution_count": 172,
   "metadata": {},
   "outputs": [],
   "source": [
    "from sklearn.model_selection import train_test_split  \n",
    "\n",
    "size_test = 300000 # taille de la partition de test\n",
    "X_train,X_test,Yr_train,Yr_test=train_test_split(data_train,Yr_train,test_size=size_test,random_state=11)"
   ]
  },
  {
   "cell_type": "code",
   "execution_count": 173,
   "metadata": {},
   "outputs": [],
   "source": [
    "#NORMALISATION\n",
    "\n",
    "from sklearn.preprocessing import StandardScaler  \n",
    "scaler = StandardScaler()  \n",
    "scaler.fit(X_train)  \n",
    "Xr_train = scaler.transform(X_train)  \n",
    "# Meme transformation sur le test\n",
    "Xr_test = scaler.transform(X_test)"
   ]
  },
  {
   "cell_type": "code",
   "execution_count": 174,
   "metadata": {},
   "outputs": [
    {
     "name": "stdout",
     "output_type": "stream",
     "text": [
      "<class 'pandas.core.frame.DataFrame'>\n",
      "Int64Index: 412046 entries, 443906 to 403353\n",
      "Data columns (total 10 columns):\n",
      "state_0        412046 non-null uint8\n",
      "state_a        412046 non-null uint8\n",
      "state_b        412046 non-null uint8\n",
      "state_c        412046 non-null uint8\n",
      "ID             412046 non-null int64\n",
      "day            412046 non-null int64\n",
      "nb_customer    412046 non-null int64\n",
      "open           412046 non-null int64\n",
      "promo          412046 non-null int64\n",
      "school         412046 non-null int64\n",
      "dtypes: int64(6), uint8(4)\n",
      "memory usage: 23.6 MB\n"
     ]
    }
   ],
   "source": [
    "X_train.info()"
   ]
  },
  {
   "cell_type": "code",
   "execution_count": 175,
   "metadata": {},
   "outputs": [],
   "source": [
    "#RESHAPE pour bien spécifier nombre de ligne et de colonnes\n",
    "Xr_train=Xr_train.reshape((len(data_train)-size_test,10))\n",
    "Xr_test=Xr_test.reshape((size_test,10))"
   ]
  },
  {
   "cell_type": "markdown",
   "metadata": {},
   "source": [
    "## regression linéaire\n"
   ]
  },
  {
   "cell_type": "code",
   "execution_count": 176,
   "metadata": {},
   "outputs": [
    {
     "name": "stdout",
     "output_type": "stream",
     "text": [
      "MSE= 14324827.342689784\n"
     ]
    }
   ],
   "source": [
    "from sklearn import linear_model\n",
    "regLasso = linear_model.Lasso()\n",
    "regLasso.fit(Xr_train,Yr_train)\n",
    "prev=regLasso.predict(Xr_test)\n",
    "print(\"MSE=\",mean_squared_error(Yr_test,prev))"
   ]
  },
  {
   "cell_type": "code",
   "execution_count": 177,
   "metadata": {},
   "outputs": [
    {
     "name": "stdout",
     "output_type": "stream",
     "text": [
      "R2= -2.3266713500280645e-05\n"
     ]
    }
   ],
   "source": [
    "from sklearn.metrics import r2_score\n",
    "print(\"R2=\",r2_score(Yr_test,prev))"
   ]
  },
  {
   "cell_type": "code",
   "execution_count": 178,
   "metadata": {},
   "outputs": [
    {
     "data": {
      "text/plain": [
       "array([-0.        , -0.        ,  0.        ,  0.        ,  0.01220503,\n",
       "        4.32593522,  0.01651244, -0.        , -1.88313609, -4.29358572])"
      ]
     },
     "execution_count": 178,
     "metadata": {},
     "output_type": "execute_result"
    }
   ],
   "source": [
    "model_lasso=regLasso.fit(X_train,Yr_train)\n",
    "model_lasso.coef_"
   ]
  },
  {
   "cell_type": "code",
   "execution_count": 179,
   "metadata": {},
   "outputs": [
    {
     "name": "stdout",
     "output_type": "stream",
     "text": [
      "Lasso conserve 5 variables et en supprime 5\n"
     ]
    }
   ],
   "source": [
    "coef = pd.Series(model_lasso.coef_, index = data_train.columns)\n",
    "print(\"Lasso conserve \" + str(sum(coef != 0)) + \n",
    "      \" variables et en supprime \" +  str(sum(coef == 0)))"
   ]
  },
  {
   "cell_type": "code",
   "execution_count": 180,
   "metadata": {},
   "outputs": [
    {
     "data": {
      "text/plain": [
       "Text(0.5, 1.0, 'Coefficients du modèle lasso')"
      ]
     },
     "execution_count": 180,
     "metadata": {},
     "output_type": "execute_result"
    },
    {
     "data": {
      "image/png": "[encoded data removed]",
      "text/plain": [
       "<Figure size 576x720 with 1 Axes>"
      ]
     },
     "metadata": {
      "needs_background": "light"
     },
     "output_type": "display_data"
    }
   ],
   "source": [
    "imp_coef = coef.sort_values()\n",
    "plt.rcParams['figure.figsize'] = (8.0, 10.0)\n",
    "imp_coef.plot(kind = \"barh\")\n",
    "plt.title(u\"Coefficients du modèle lasso\")"
   ]
  },
  {
   "cell_type": "markdown",
   "metadata": {},
   "source": [
    "## arbre binaire"
   ]
  },
  {
   "cell_type": "code",
   "execution_count": null,
   "metadata": {},
   "outputs": [],
   "source": []
  },
  {
   "cell_type": "code",
   "execution_count": null,
   "metadata": {},
   "outputs": [],
   "source": [
    "\n"
   ]
  },
  {
   "cell_type": "code",
   "execution_count": null,
   "metadata": {},
   "outputs": [],
   "source": []
  },
  {
   "cell_type": "code",
   "execution_count": null,
   "metadata": {},
   "outputs": [],
   "source": []
  },
  {
   "cell_type": "code",
   "execution_count": null,
   "metadata": {},
   "outputs": [],
   "source": []
  },
  {
   "cell_type": "code",
   "execution_count": null,
   "metadata": {},
   "outputs": [],
   "source": []
  },
  {
   "cell_type": "code",
   "execution_count": null,
   "metadata": {},
   "outputs": [],
   "source": []
  },
  {
   "cell_type": "code",
   "execution_count": null,
   "metadata": {},
   "outputs": [],
   "source": []
  },
  {
   "cell_type": "code",
   "execution_count": null,
   "metadata": {},
   "outputs": [],
   "source": []
  },
  {
   "cell_type": "code",
   "execution_count": 89,
   "metadata": {},
   "outputs": [],
   "source": []
  },
  {
   "cell_type": "code",
   "execution_count": 78,
   "metadata": {},
   "outputs": [],
   "source": []
  },
  {
   "cell_type": "code",
   "execution_count": null,
   "metadata": {},
   "outputs": [],
   "source": []
  },
  {
   "cell_type": "code",
   "execution_count": null,
   "metadata": {},
   "outputs": [],
   "source": []
  }
 ],
 "metadata": {
  "kernelspec": {
   "display_name": "Python 3",
   "language": "python",
   "name": "python3"
  },
  "language_info": {
   "codemirror_mode": {
    "name": "ipython",
    "version": 3
   },
   "file_extension": ".py",
   "mimetype": "text/x-python",
   "name": "python",
   "nbconvert_exporter": "python",
   "pygments_lexer": "ipython3",
   "version": "3.7.4"
  }
 },
 "nbformat": 4,
 "nbformat_minor": 2
}
